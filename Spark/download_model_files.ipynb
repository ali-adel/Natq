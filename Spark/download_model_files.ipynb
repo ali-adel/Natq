{
 "cells": [
  {
   "cell_type": "code",
   "execution_count": 1,
   "id": "224c4f4c",
   "metadata": {},
   "outputs": [
    {
     "name": "stderr",
     "output_type": "stream",
     "text": [
      "Cloning into 'Spark-TTS-finetune'...\n"
     ]
    }
   ],
   "source": [
    "!git clone https://github.com/tuanh123789/Spark-TTS-finetune"
   ]
  },
  {
   "cell_type": "code",
   "execution_count": 2,
   "id": "c08c863a",
   "metadata": {},
   "outputs": [
    {
     "name": "stdout",
     "output_type": "stream",
     "text": [
      "e:\\Natq\\Spark\\Spark-TTS-finetune\n"
     ]
    }
   ],
   "source": [
    "%cd Spark-TTS-finetune"
   ]
  },
  {
   "cell_type": "code",
   "execution_count": 3,
   "metadata": {},
   "outputs": [
    {
     "name": "stdout",
     "output_type": "stream",
     "text": [
      "^C\n",
      "Note: you may need to restart the kernel to use updated packages.\n"
     ]
    },
    {
     "name": "stdout",
     "output_type": "stream",
     "text": [
      "Requirement already satisfied: packaging in c:\\users\\eid\\appdata\\local\\packages\\pythonsoftwarefoundation.python.3.11_qbz5n2kfra8p0\\localcache\\local-packages\\python311\\site-packages (25.0)\n",
      "Requirement already satisfied: setuptools in c:\\program files\\windowsapps\\pythonsoftwarefoundation.python.3.11_3.11.2544.0_x64__qbz5n2kfra8p0\\lib\\site-packages (65.5.0)\n",
      "Collecting setuptools\n",
      "  Using cached setuptools-80.9.0-py3-none-any.whl.metadata (6.6 kB)\n",
      "Collecting wheel\n",
      "  Using cached wheel-0.45.1-py3-none-any.whl.metadata (2.3 kB)\n",
      "Collecting ninja\n",
      "  Downloading ninja-1.11.1.4-py3-none-win_amd64.whl.metadata (5.0 kB)\n",
      "Using cached setuptools-80.9.0-py3-none-any.whl (1.2 MB)\n",
      "Using cached wheel-0.45.1-py3-none-any.whl (72 kB)\n",
      "Downloading ninja-1.11.1.4-py3-none-win_amd64.whl (296 kB)\n",
      "   ---------------------------------------- 0.0/296.5 kB ? eta -:--:--\n",
      "   ---------------------------------------- 0.0/296.5 kB ? eta -:--:--\n",
      "   - -------------------------------------- 10.2/296.5 kB ? eta -:--:--\n",
      "   - -------------------------------------- 10.2/296.5 kB ? eta -:--:--\n",
      "   ---- ---------------------------------- 30.7/296.5 kB 186.2 kB/s eta 0:00:02\n",
      "   -------- ------------------------------ 61.4/296.5 kB 326.1 kB/s eta 0:00:01\n",
      "   ------------ -------------------------- 92.2/296.5 kB 403.5 kB/s eta 0:00:01\n",
      "   ------------ -------------------------- 92.2/296.5 kB 403.5 kB/s eta 0:00:01\n",
      "   ---------------------- --------------- 174.1/296.5 kB 581.0 kB/s eta 0:00:01\n",
      "   ------------------------------ ------- 235.5/296.5 kB 654.9 kB/s eta 0:00:01\n",
      "   ------------------------------ ------- 235.5/296.5 kB 654.9 kB/s eta 0:00:01\n",
      "   ------------------------------------ - 286.7/296.5 kB 655.2 kB/s eta 0:00:01\n",
      "   -------------------------------------- 296.5/296.5 kB 610.3 kB/s eta 0:00:00\n",
      "Installing collected packages: wheel, setuptools, ninja\n",
      "Successfully installed ninja-1.11.1.4 setuptools-80.9.0 wheel-0.45.1\n"
     ]
    },
    {
     "name": "stderr",
     "output_type": "stream",
     "text": [
      "\n",
      "[notice] A new release of pip is available: 24.0 -> 25.1.1\n",
      "[notice] To update, run: C:\\Users\\eid\\AppData\\Local\\Microsoft\\WindowsApps\\PythonSoftwareFoundation.Python.3.11_qbz5n2kfra8p0\\python.exe -m pip install --upgrade pip\n"
     ]
    }
   ],
   "source": [
    "%pip install -U packaging setuptools wheel ninja"
   ]
  },
  {
   "cell_type": "code",
   "execution_count": null,
   "id": "4102efcf",
   "metadata": {},
   "outputs": [],
   "source": [
    "%pip install --no-build-isolation axolotl[flash-attn,deepspeed]"
   ]
  },
  {
   "cell_type": "code",
   "execution_count": 4,
   "id": "e3079251",
   "metadata": {},
   "outputs": [
    {
     "name": "stderr",
     "output_type": "stream",
     "text": [
      "Traceback (most recent call last):\n",
      "  File \"<frozen runpy>\", line 198, in _run_module_as_main\n",
      "  File \"<frozen runpy>\", line 88, in _run_code\n",
      "  File \"e:\\Natq\\Spark\\Spark-TTS-finetune\\src\\download_pretrain.py\", line 1, in <module>\n",
      "    from huggingface_hub import snapshot_download\n",
      "ModuleNotFoundError: No module named 'huggingface_hub'\n"
     ]
    }
   ],
   "source": [
    "!python -m src.download_pretrain"
   ]
  },
  {
   "cell_type": "code",
   "execution_count": null,
   "id": "8130b94f",
   "metadata": {},
   "outputs": [],
   "source": [
    "%cd Spark-TTS-finetune"
   ]
  },
  {
   "cell_type": "code",
   "execution_count": null,
   "id": "b910462f",
   "metadata": {},
   "outputs": [],
   "source": [
    "%pip install axolotl"
   ]
  },
  {
   "cell_type": "code",
   "execution_count": null,
   "id": "0cff5d20",
   "metadata": {},
   "outputs": [],
   "source": [
    "%pip install flash-attn --no-build-isolation"
   ]
  },
  {
   "cell_type": "code",
   "execution_count": null,
   "id": "680769a7",
   "metadata": {},
   "outputs": [],
   "source": [
    "%cd .."
   ]
  },
  {
   "cell_type": "code",
   "execution_count": null,
   "id": "a5bf2da8",
   "metadata": {},
   "outputs": [],
   "source": [
    "!git clone https://github.com/SparkAudio/Spark-TTS.git"
   ]
  },
  {
   "cell_type": "code",
   "execution_count": null,
   "id": "4cfb2639",
   "metadata": {},
   "outputs": [],
   "source": [
    "!touch Spark-TTS/cli/__init__.py"
   ]
  },
  {
   "cell_type": "code",
   "execution_count": null,
   "id": "e4a0bb25",
   "metadata": {},
   "outputs": [],
   "source": [
    "!pip uninstall torch torchvision torchaudio transformers accelerate"
   ]
  },
  {
   "cell_type": "code",
   "execution_count": null,
   "id": "59cacf96",
   "metadata": {},
   "outputs": [],
   "source": []
  },
  {
   "cell_type": "code",
   "execution_count": null,
   "id": "8178ad7b",
   "metadata": {},
   "outputs": [],
   "source": []
  },
  {
   "cell_type": "code",
   "execution_count": null,
   "id": "fa7a7845",
   "metadata": {},
   "outputs": [],
   "source": []
  },
  {
   "cell_type": "code",
   "execution_count": null,
   "id": "f6d32f25",
   "metadata": {},
   "outputs": [],
   "source": []
  }
 ],
 "metadata": {
  "kernelspec": {
   "display_name": "Python 3",
   "language": "python",
   "name": "python3"
  },
  "language_info": {
   "codemirror_mode": {
    "name": "ipython",
    "version": 3
   },
   "file_extension": ".py",
   "mimetype": "text/x-python",
   "name": "python",
   "nbconvert_exporter": "python",
   "pygments_lexer": "ipython3",
   "version": "3.11.9"
  }
 },
 "nbformat": 4,
 "nbformat_minor": 5
}
